{
 "cells": [
  {
   "cell_type": "code",
   "execution_count": 1,
   "metadata": {},
   "outputs": [],
   "source": [
    "# load pd df from csv of jlc_parts.csv\n",
    "\n",
    "import pandas as pd\n",
    "import numpy as np\n",
    "\n",
    "# load csv\n",
    "df = pd.read_csv('jlc_parts.csv', sep=',', header=0, index_col=0)"
   ]
  },
  {
   "cell_type": "code",
   "execution_count": 2,
   "metadata": {},
   "outputs": [
    {
     "name": "stdout",
     "output_type": "stream",
     "text": [
      "Index(['LCSC Part #', 'Description', 'value', 'tolerance', 'type', 'voltage',\n",
      "       'min_value', 'max_value', 'Package', 'Stock', 'Type', 'MFR.Part #',\n",
      "       'Datasheet', 'Price (USD)', 'basic-extended', 'unit', 'Comment',\n",
      "       'Category', 'code', 'value_in_ohms', 'dielectric', 'value_in_farads'],\n",
      "      dtype='object')\n"
     ]
    }
   ],
   "source": [
    "# list unique column names\n",
    "print(df.columns)\n",
    "# df['Category'].unique()\n",
    "\n",
    "# remove rows with Resistor Networks & Arrays in Category\n",
    "# df = df[df.Category != 'Chip Resistor - Surface Mount ( UniOhm)']\n"
   ]
  },
  {
   "cell_type": "code",
   "execution_count": 3,
   "metadata": {},
   "outputs": [],
   "source": [
    "# load into firestore table\n",
    "import firebase_admin\n",
    "from firebase_admin import credentials\n",
    "from firebase_admin import firestore\n",
    "\n",
    "# Use a service account.\n",
    "cred = credentials.Certificate('atopile-880ca67acfe2.json')\n",
    "\n",
    "app = firebase_admin.initialize_app(cred)\n",
    "\n",
    "db = firestore.client()\n",
    "\n",
    "# add data to firestore with these fields\n",
    "# Index(['LCSC Part #', 'Description', 'value', 'tolerance', 'type', 'voltage',\n",
    "#        'min_value', 'max_value', 'Package', 'Stock', 'Type', 'MFR.Part #',\n",
    "#        'Datasheet', 'Price (USD)', 'basic-extended', 'unit', 'Comment',\n",
    "#        'Category', 'code', 'value_in_ohms', 'dielectric', 'value_in_farads'],\n",
    "#       dtype='object')\n",
    "\n",
    "# make a collection for resistors\n",
    "# db.collection(\"resistors\")\n",
    "# set the document id to the LCSC Part #\n",
    "for index, row in df.iterrows():\n",
    "    doc_ref = db.collection(u'components').document(row['LCSC Part #'])\n",
    "    doc_ref.set({\n",
    "        u'LCSC Part #': row['LCSC Part #'],\n",
    "        u'Description': row['Description'],\n",
    "        u'value': row['value'],\n",
    "        u'tolerance': row['tolerance'],\n",
    "        u'type': row['type'],\n",
    "        u'voltage': row['voltage'],\n",
    "        u'min_value': row['min_value'],\n",
    "        u'max_value': row['max_value'],\n",
    "        u'Package': row['Package'],\n",
    "        u'Stock': row['Stock'],\n",
    "        u'Type': row['Type'],\n",
    "        u'MFR.Part #': row['MFR.Part #'],\n",
    "        u'Datasheet': row['Datasheet'],\n",
    "        u'Price (USD)': row['Price (USD)'],\n",
    "        u'basic-extended': row['basic-extended'],\n",
    "        u'unit': row['unit'],\n",
    "        u'Comment': row['Comment'],\n",
    "        u'Category': row['Category'],\n",
    "        u'code': row['code'],\n",
    "        u'value_in_ohms': row['value_in_ohms'],\n",
    "        u'dielectric': row['dielectric'],\n",
    "        u'value_in_farads': row['value_in_farads']\n",
    "    })\n",
    "\n",
    "# make a table for capacitors"
   ]
  },
  {
   "cell_type": "code",
   "execution_count": 6,
   "metadata": {},
   "outputs": [
    {
     "ename": "ValueError",
     "evalue": "No tables found matching pattern '.+'",
     "output_type": "error",
     "traceback": [
      "\u001b[0;31m---------------------------------------------------------------------------\u001b[0m",
      "\u001b[0;31mValueError\u001b[0m                                Traceback (most recent call last)",
      "Cell \u001b[0;32mIn[6], line 3\u001b[0m\n\u001b[1;32m      1\u001b[0m \u001b[38;5;28;01mimport\u001b[39;00m \u001b[38;5;21;01mpandas\u001b[39;00m \u001b[38;5;28;01mas\u001b[39;00m \u001b[38;5;21;01mpd\u001b[39;00m\n\u001b[0;32m----> 3\u001b[0m df \u001b[38;5;241m=\u001b[39m \u001b[43mpd\u001b[49m\u001b[38;5;241;43m.\u001b[39;49m\u001b[43mread_html\u001b[49m\u001b[43m(\u001b[49m\u001b[38;5;124;43m'\u001b[39;49m\u001b[38;5;124;43mhttps://jlcpcb.com/partdetail/C10050\u001b[39;49m\u001b[38;5;124;43m'\u001b[39;49m\u001b[43m)\u001b[49m\n\u001b[1;32m      4\u001b[0m df\n",
      "File \u001b[0;32m~/Documents/atopile-workspace/.venv/lib/python3.11/site-packages/pandas/io/html.py:1245\u001b[0m, in \u001b[0;36mread_html\u001b[0;34m(io, match, flavor, header, index_col, skiprows, attrs, parse_dates, thousands, encoding, decimal, converters, na_values, keep_default_na, displayed_only, extract_links, dtype_backend, storage_options)\u001b[0m\n\u001b[1;32m   1229\u001b[0m \u001b[38;5;28;01mif\u001b[39;00m \u001b[38;5;28misinstance\u001b[39m(io, \u001b[38;5;28mstr\u001b[39m) \u001b[38;5;129;01mand\u001b[39;00m \u001b[38;5;129;01mnot\u001b[39;00m \u001b[38;5;28many\u001b[39m(\n\u001b[1;32m   1230\u001b[0m     [\n\u001b[1;32m   1231\u001b[0m         is_file_like(io),\n\u001b[0;32m   (...)\u001b[0m\n\u001b[1;32m   1235\u001b[0m     ]\n\u001b[1;32m   1236\u001b[0m ):\n\u001b[1;32m   1237\u001b[0m     warnings\u001b[38;5;241m.\u001b[39mwarn(\n\u001b[1;32m   1238\u001b[0m         \u001b[38;5;124m\"\u001b[39m\u001b[38;5;124mPassing literal html to \u001b[39m\u001b[38;5;124m'\u001b[39m\u001b[38;5;124mread_html\u001b[39m\u001b[38;5;124m'\u001b[39m\u001b[38;5;124m is deprecated and \u001b[39m\u001b[38;5;124m\"\u001b[39m\n\u001b[1;32m   1239\u001b[0m         \u001b[38;5;124m\"\u001b[39m\u001b[38;5;124mwill be removed in a future version. To read from a \u001b[39m\u001b[38;5;124m\"\u001b[39m\n\u001b[0;32m   (...)\u001b[0m\n\u001b[1;32m   1242\u001b[0m         stacklevel\u001b[38;5;241m=\u001b[39mfind_stack_level(),\n\u001b[1;32m   1243\u001b[0m     )\n\u001b[0;32m-> 1245\u001b[0m \u001b[38;5;28;01mreturn\u001b[39;00m \u001b[43m_parse\u001b[49m\u001b[43m(\u001b[49m\n\u001b[1;32m   1246\u001b[0m \u001b[43m    \u001b[49m\u001b[43mflavor\u001b[49m\u001b[38;5;241;43m=\u001b[39;49m\u001b[43mflavor\u001b[49m\u001b[43m,\u001b[49m\n\u001b[1;32m   1247\u001b[0m \u001b[43m    \u001b[49m\u001b[43mio\u001b[49m\u001b[38;5;241;43m=\u001b[39;49m\u001b[43mio\u001b[49m\u001b[43m,\u001b[49m\n\u001b[1;32m   1248\u001b[0m \u001b[43m    \u001b[49m\u001b[43mmatch\u001b[49m\u001b[38;5;241;43m=\u001b[39;49m\u001b[43mmatch\u001b[49m\u001b[43m,\u001b[49m\n\u001b[1;32m   1249\u001b[0m \u001b[43m    \u001b[49m\u001b[43mheader\u001b[49m\u001b[38;5;241;43m=\u001b[39;49m\u001b[43mheader\u001b[49m\u001b[43m,\u001b[49m\n\u001b[1;32m   1250\u001b[0m \u001b[43m    \u001b[49m\u001b[43mindex_col\u001b[49m\u001b[38;5;241;43m=\u001b[39;49m\u001b[43mindex_col\u001b[49m\u001b[43m,\u001b[49m\n\u001b[1;32m   1251\u001b[0m \u001b[43m    \u001b[49m\u001b[43mskiprows\u001b[49m\u001b[38;5;241;43m=\u001b[39;49m\u001b[43mskiprows\u001b[49m\u001b[43m,\u001b[49m\n\u001b[1;32m   1252\u001b[0m \u001b[43m    \u001b[49m\u001b[43mparse_dates\u001b[49m\u001b[38;5;241;43m=\u001b[39;49m\u001b[43mparse_dates\u001b[49m\u001b[43m,\u001b[49m\n\u001b[1;32m   1253\u001b[0m \u001b[43m    \u001b[49m\u001b[43mthousands\u001b[49m\u001b[38;5;241;43m=\u001b[39;49m\u001b[43mthousands\u001b[49m\u001b[43m,\u001b[49m\n\u001b[1;32m   1254\u001b[0m \u001b[43m    \u001b[49m\u001b[43mattrs\u001b[49m\u001b[38;5;241;43m=\u001b[39;49m\u001b[43mattrs\u001b[49m\u001b[43m,\u001b[49m\n\u001b[1;32m   1255\u001b[0m \u001b[43m    \u001b[49m\u001b[43mencoding\u001b[49m\u001b[38;5;241;43m=\u001b[39;49m\u001b[43mencoding\u001b[49m\u001b[43m,\u001b[49m\n\u001b[1;32m   1256\u001b[0m \u001b[43m    \u001b[49m\u001b[43mdecimal\u001b[49m\u001b[38;5;241;43m=\u001b[39;49m\u001b[43mdecimal\u001b[49m\u001b[43m,\u001b[49m\n\u001b[1;32m   1257\u001b[0m \u001b[43m    \u001b[49m\u001b[43mconverters\u001b[49m\u001b[38;5;241;43m=\u001b[39;49m\u001b[43mconverters\u001b[49m\u001b[43m,\u001b[49m\n\u001b[1;32m   1258\u001b[0m \u001b[43m    \u001b[49m\u001b[43mna_values\u001b[49m\u001b[38;5;241;43m=\u001b[39;49m\u001b[43mna_values\u001b[49m\u001b[43m,\u001b[49m\n\u001b[1;32m   1259\u001b[0m \u001b[43m    \u001b[49m\u001b[43mkeep_default_na\u001b[49m\u001b[38;5;241;43m=\u001b[39;49m\u001b[43mkeep_default_na\u001b[49m\u001b[43m,\u001b[49m\n\u001b[1;32m   1260\u001b[0m \u001b[43m    \u001b[49m\u001b[43mdisplayed_only\u001b[49m\u001b[38;5;241;43m=\u001b[39;49m\u001b[43mdisplayed_only\u001b[49m\u001b[43m,\u001b[49m\n\u001b[1;32m   1261\u001b[0m \u001b[43m    \u001b[49m\u001b[43mextract_links\u001b[49m\u001b[38;5;241;43m=\u001b[39;49m\u001b[43mextract_links\u001b[49m\u001b[43m,\u001b[49m\n\u001b[1;32m   1262\u001b[0m \u001b[43m    \u001b[49m\u001b[43mdtype_backend\u001b[49m\u001b[38;5;241;43m=\u001b[39;49m\u001b[43mdtype_backend\u001b[49m\u001b[43m,\u001b[49m\n\u001b[1;32m   1263\u001b[0m \u001b[43m    \u001b[49m\u001b[43mstorage_options\u001b[49m\u001b[38;5;241;43m=\u001b[39;49m\u001b[43mstorage_options\u001b[49m\u001b[43m,\u001b[49m\n\u001b[1;32m   1264\u001b[0m \u001b[43m\u001b[49m\u001b[43m)\u001b[49m\n",
      "File \u001b[0;32m~/Documents/atopile-workspace/.venv/lib/python3.11/site-packages/pandas/io/html.py:1008\u001b[0m, in \u001b[0;36m_parse\u001b[0;34m(flavor, io, match, attrs, encoding, displayed_only, extract_links, storage_options, **kwargs)\u001b[0m\n\u001b[1;32m   1006\u001b[0m \u001b[38;5;28;01melse\u001b[39;00m:\n\u001b[1;32m   1007\u001b[0m     \u001b[38;5;28;01massert\u001b[39;00m retained \u001b[38;5;129;01mis\u001b[39;00m \u001b[38;5;129;01mnot\u001b[39;00m \u001b[38;5;28;01mNone\u001b[39;00m  \u001b[38;5;66;03m# for mypy\u001b[39;00m\n\u001b[0;32m-> 1008\u001b[0m     \u001b[38;5;28;01mraise\u001b[39;00m retained\n\u001b[1;32m   1010\u001b[0m ret \u001b[38;5;241m=\u001b[39m []\n\u001b[1;32m   1011\u001b[0m \u001b[38;5;28;01mfor\u001b[39;00m table \u001b[38;5;129;01min\u001b[39;00m tables:\n",
      "File \u001b[0;32m~/Documents/atopile-workspace/.venv/lib/python3.11/site-packages/pandas/io/html.py:988\u001b[0m, in \u001b[0;36m_parse\u001b[0;34m(flavor, io, match, attrs, encoding, displayed_only, extract_links, storage_options, **kwargs)\u001b[0m\n\u001b[1;32m    977\u001b[0m p \u001b[38;5;241m=\u001b[39m parser(\n\u001b[1;32m    978\u001b[0m     io,\n\u001b[1;32m    979\u001b[0m     compiled_match,\n\u001b[0;32m   (...)\u001b[0m\n\u001b[1;32m    984\u001b[0m     storage_options,\n\u001b[1;32m    985\u001b[0m )\n\u001b[1;32m    987\u001b[0m \u001b[38;5;28;01mtry\u001b[39;00m:\n\u001b[0;32m--> 988\u001b[0m     tables \u001b[38;5;241m=\u001b[39m \u001b[43mp\u001b[49m\u001b[38;5;241;43m.\u001b[39;49m\u001b[43mparse_tables\u001b[49m\u001b[43m(\u001b[49m\u001b[43m)\u001b[49m\n\u001b[1;32m    989\u001b[0m \u001b[38;5;28;01mexcept\u001b[39;00m \u001b[38;5;167;01mValueError\u001b[39;00m \u001b[38;5;28;01mas\u001b[39;00m caught:\n\u001b[1;32m    990\u001b[0m     \u001b[38;5;66;03m# if `io` is an io-like object, check if it's seekable\u001b[39;00m\n\u001b[1;32m    991\u001b[0m     \u001b[38;5;66;03m# and try to rewind it before trying the next parser\u001b[39;00m\n\u001b[1;32m    992\u001b[0m     \u001b[38;5;28;01mif\u001b[39;00m \u001b[38;5;28mhasattr\u001b[39m(io, \u001b[38;5;124m\"\u001b[39m\u001b[38;5;124mseekable\u001b[39m\u001b[38;5;124m\"\u001b[39m) \u001b[38;5;129;01mand\u001b[39;00m io\u001b[38;5;241m.\u001b[39mseekable():\n",
      "File \u001b[0;32m~/Documents/atopile-workspace/.venv/lib/python3.11/site-packages/pandas/io/html.py:248\u001b[0m, in \u001b[0;36m_HtmlFrameParser.parse_tables\u001b[0;34m(self)\u001b[0m\n\u001b[1;32m    240\u001b[0m \u001b[38;5;28;01mdef\u001b[39;00m \u001b[38;5;21mparse_tables\u001b[39m(\u001b[38;5;28mself\u001b[39m):\n\u001b[1;32m    241\u001b[0m \u001b[38;5;250m    \u001b[39m\u001b[38;5;124;03m\"\"\"\u001b[39;00m\n\u001b[1;32m    242\u001b[0m \u001b[38;5;124;03m    Parse and return all tables from the DOM.\u001b[39;00m\n\u001b[1;32m    243\u001b[0m \n\u001b[0;32m   (...)\u001b[0m\n\u001b[1;32m    246\u001b[0m \u001b[38;5;124;03m    list of parsed (header, body, footer) tuples from tables.\u001b[39;00m\n\u001b[1;32m    247\u001b[0m \u001b[38;5;124;03m    \"\"\"\u001b[39;00m\n\u001b[0;32m--> 248\u001b[0m     tables \u001b[38;5;241m=\u001b[39m \u001b[38;5;28;43mself\u001b[39;49m\u001b[38;5;241;43m.\u001b[39;49m\u001b[43m_parse_tables\u001b[49m\u001b[43m(\u001b[49m\u001b[38;5;28;43mself\u001b[39;49m\u001b[38;5;241;43m.\u001b[39;49m\u001b[43m_build_doc\u001b[49m\u001b[43m(\u001b[49m\u001b[43m)\u001b[49m\u001b[43m,\u001b[49m\u001b[43m \u001b[49m\u001b[38;5;28;43mself\u001b[39;49m\u001b[38;5;241;43m.\u001b[39;49m\u001b[43mmatch\u001b[49m\u001b[43m,\u001b[49m\u001b[43m \u001b[49m\u001b[38;5;28;43mself\u001b[39;49m\u001b[38;5;241;43m.\u001b[39;49m\u001b[43mattrs\u001b[49m\u001b[43m)\u001b[49m\n\u001b[1;32m    249\u001b[0m     \u001b[38;5;28;01mreturn\u001b[39;00m (\u001b[38;5;28mself\u001b[39m\u001b[38;5;241m.\u001b[39m_parse_thead_tbody_tfoot(table) \u001b[38;5;28;01mfor\u001b[39;00m table \u001b[38;5;129;01min\u001b[39;00m tables)\n",
      "File \u001b[0;32m~/Documents/atopile-workspace/.venv/lib/python3.11/site-packages/pandas/io/html.py:621\u001b[0m, in \u001b[0;36m_BeautifulSoupHtml5LibFrameParser._parse_tables\u001b[0;34m(self, document, match, attrs)\u001b[0m\n\u001b[1;32m    619\u001b[0m     unique_tables\u001b[38;5;241m.\u001b[39madd(table)\n\u001b[1;32m    620\u001b[0m \u001b[38;5;28;01mif\u001b[39;00m \u001b[38;5;129;01mnot\u001b[39;00m result:\n\u001b[0;32m--> 621\u001b[0m     \u001b[38;5;28;01mraise\u001b[39;00m \u001b[38;5;167;01mValueError\u001b[39;00m(\u001b[38;5;124mf\u001b[39m\u001b[38;5;124m\"\u001b[39m\u001b[38;5;124mNo tables found matching pattern \u001b[39m\u001b[38;5;132;01m{\u001b[39;00m\u001b[38;5;28mrepr\u001b[39m(match\u001b[38;5;241m.\u001b[39mpattern)\u001b[38;5;132;01m}\u001b[39;00m\u001b[38;5;124m\"\u001b[39m)\n\u001b[1;32m    622\u001b[0m \u001b[38;5;28;01mreturn\u001b[39;00m result\n",
      "\u001b[0;31mValueError\u001b[0m: No tables found matching pattern '.+'"
     ]
    }
   ],
   "source": [
    "import pandas as pd\n",
    "\n",
    "df = pd.read_html('https://jlcpcb.com/partdetail/C10050')\n",
    "df"
   ]
  },
  {
   "cell_type": "code",
   "execution_count": 61,
   "metadata": {},
   "outputs": [
    {
     "data": {
      "text/plain": [
       "<table border=\"0\" cellpadding=\"0\" cellspacing=\"0\" class=\"el-table__body\" style=\"width:;\"><colgroup></colgroup><tbody><tr class=\"el-table__row\"></tr><tr class=\"el-table__row\"></tr><tr class=\"el-table__row\"></tr><tr class=\"el-table__row\"></tr><tr class=\"el-table__row\"></tr><tr class=\"el-table__row\"></tr><tr class=\"el-table__row\"></tr><tr class=\"el-table__row\"></tr><tr class=\"el-table__row\"></tr><tr class=\"el-table__row\"></tr><tr class=\"el-table__row\"></tr><tr class=\"el-table__row\"></tr><tr class=\"el-table__row\"></tr><tr class=\"el-table__row\"></tr><tr class=\"el-table__row\"></tr><tr class=\"el-table__row\"></tr><tr class=\"el-table__row\"></tr><tr class=\"el-table__row\"></tr><tr class=\"el-table__row\"></tr><tr class=\"el-table__row\"></tr><tr class=\"el-table__row\"></tr><tr class=\"el-table__row\"></tr><tr class=\"el-table__row\"></tr><tr class=\"el-table__row\"></tr><tr class=\"el-table__row\"></tr><tr class=\"el-table__row\"></tr><tr class=\"el-table__row\"></tr><tr class=\"el-table__row\"></tr><tr class=\"el-table__row\"></tr><tr class=\"el-table__row\"></tr><tr class=\"el-table__row\"></tr><tr class=\"el-table__row\"></tr><tr class=\"el-table__row\"></tr><tr class=\"el-table__row\"></tr><tr class=\"el-table__row\"></tr><!-- --></tbody></table>"
      ]
     },
     "execution_count": 61,
     "metadata": {},
     "output_type": "execute_result"
    }
   ],
   "source": [
    "from bs4 import BeautifulSoup\n",
    "\n",
    "import requests\n",
    "\n",
    "url = 'https://jlcpcb.com/partdetail/C2040'\n",
    "response = requests.get(url)\n",
    "soup = BeautifulSoup(response.text, 'html.parser')\n",
    "\n",
    "# # find lcsc part number\n",
    "\n",
    "tables = soup.find_all('table')\n",
    "len(tables)\n",
    "tables[1]\n",
    "# Parse the HTML content\n",
    "# soup = BeautifulSoup(response.text, 'html.parser')\n",
    "\n",
    "# # Dictionary to store the data\n",
    "# part_details = {}\n",
    "\n",
    "# # Find all the 'dl' elements\n",
    "# for dl in soup.find_all('dl', class_='pt-[23px] pl-30 pr-30 pb-30\"'):\n",
    "#     # Extract the 'dt' (title) and 'dd' (description) elements\n",
    "#     dt = dl.find('dt').get_text(strip=True)\n",
    "#     dd = dl.find('dd').get_text(strip=True)\n",
    "\n",
    "#     # Add the extracted information to the dictionary\n",
    "#     part_details[dt] = dd\n",
    "\n",
    "# # Print the dictionary\n",
    "# for key, value in part_details.items():\n",
    "#     print(f\"{key}: {value}\")<div class=\"el-table__body-wrapper is-scrolling-none\"><table border=\"0\" cellpadding=\"0\" cellspacing=\"0\" class=\"el-table__body\" style=\"width:;\"><colgroup></colgroup><tbody><tr class=\"el-table__row\"></tr><tr class=\"el-table__row\"></tr><tr class=\"el-table__row\"></tr><tr class=\"el-table__row\"></tr><tr class=\"el-table__row\"></tr><tr class=\"el-table__row\"></tr><tr class=\"el-table__row\"></tr><tr class=\"el-table__row\"></tr><tr class=\"el-table__row\"></tr><tr class=\"el-table__row\"></tr><tr class=\"el-table__row\"></tr><tr class=\"el-table__row\"></tr><tr class=\"el-table__row\"></tr><tr class=\"el-table__row\"></tr><tr class=\"el-table__row\"></tr><tr class=\"el-table__row\"></tr><tr class=\"el-table__row\"></tr><tr class=\"el-table__row\"></tr><tr class=\"el-table__row\"></tr><tr class=\"el-table__row\"></tr><tr class=\"el-table__row\"></tr><tr class=\"el-table__row\"></tr><tr class=\"el-table__row\"></tr><tr class=\"el-table__row\"></tr><tr class=\"el-table__row\"></tr><tr class=\"el-table__row\"></tr><tr class=\"el-table__row\"></tr><tr class=\"el-table__row\"></tr><tr class=\"el-table__row\"></tr><tr class=\"el-table__row\"></tr><tr class=\"el-table__row\"></tr><tr class=\"el-table__row\"></tr><tr class=\"el-table__row\"></tr><tr class=\"el-table__row\"></tr><tr class=\"el-table__row\"></tr><!-- --></tbody></table><!-- --><!-- --></div>\n"
   ]
  },
  {
   "cell_type": "code",
   "execution_count": 50,
   "metadata": {},
   "outputs": [
    {
     "name": "stdout",
     "output_type": "stream",
     "text": [
      "Stock: 7027\n",
      "Price List: [('1+', 0.015), ('500+', 0.0123), ('1500+', 0.0108), ('4000+', 0.0099), ('24000+', 0.0091), ('48000+', 0.0087)]\n"
     ]
    }
   ],
   "source": [
    "from bs4 import BeautifulSoup\n",
    "\n",
    "import requests\n",
    "\n",
    "url = 'https://jlcpcb.com/partdetail/C100082'\n",
    "response = requests.get(url)\n",
    "soup = BeautifulSoup(response.text, 'html.parser')\n",
    "\n",
    "# Extracting stock information\n",
    "stock_info = soup.find(\"div\", class_=\"text-16 font-bold\")\n",
    "stock = int(stock_info.text.strip().split(': ')[1]) if stock_info else None\n",
    "\n",
    "# Extracting price information\n",
    "price_divs = soup.find_all(\"div\", class_=\"flex items-center justify-between mt-14\")\n",
    "price = []\n",
    "\n",
    "for div in price_divs:\n",
    "    # Extract quantity and price\n",
    "    qty = div.find(\"span\", class_=\"w-120 inline-block\").text.strip()\n",
    "    pr = div.find(\"span\", class_=\"w-120 text-left\").text.strip().replace('$', '')\n",
    "    \n",
    "    # Add to the list as a tuple\n",
    "    price.append((qty, float(pr)))\n",
    "\n",
    "# Printing the results\n",
    "print(\"Stock:\", stock)\n",
    "print(\"Price List:\", price)"
   ]
  },
  {
   "cell_type": "code",
   "execution_count": 40,
   "metadata": {},
   "outputs": [],
   "source": [
    "def get_lcsc_data(lcsc_id):\n",
    "    # Construct the URL\n",
    "    url = 'https://jlcpcb.com/partdetail/' + lcsc_id\n",
    "    # get the HTML content\n",
    "    response = requests.get(url)\n",
    "    # Parse the HTML content\n",
    "    soup = BeautifulSoup(response.text, 'html.parser')\n",
    "    # Dictionary to store the data\n",
    "    part_details = {}\n",
    "    # Find all the 'dl' elements\n",
    "    for dl in soup.find_all('dl', class_='flex dl-list'):\n",
    "        # Extract the 'dt' (title) and 'dd' (description) elements\n",
    "        dt = dl.find('dt').get_text(strip=True)\n",
    "        dd = dl.find('dd').get_text(strip=True)\n",
    "\n",
    "        # Add the extracted information to the dictionary\n",
    "        part_details[dt] = dd\n",
    "\n",
    "    # check if the dictionary is empty\n",
    "    # if all the dictionaries are empty, then the part ID is invalid\n",
    "    # example empty row {'Manufacturer': '', 'MFR.Part #': '', 'JLCPCB Part #': '', 'Package': '', 'Description': '', 'Datasheet': 'Download', 'Source': 'JLCPCB', 'Assembly Type': 'A PCB assembly fixture is needed to protect and support this part during the assembly process.', 'CAD Model': 'PCB Footprint or Symbol'}\n",
    "    # Check if 'JLCPCB Part #' is empty\n",
    "    if not part_details.get('JLCPCB Part #'):\n",
    "        part_details = None\n",
    "    return part_details"
   ]
  },
  {
   "cell_type": "code",
   "execution_count": 43,
   "metadata": {},
   "outputs": [
    {
     "name": "stdout",
     "output_type": "stream",
     "text": [
      "{'Manufacturer': 'FH (Guangdong Fenghua Advanced Tech)', 'MFR.Part #': 'RS-02K820JT', 'JLCPCB Part #': 'C1102', 'Package': 'R0402', 'Description': '0402  Chip Resistor - Surface Mount ROHS', 'Datasheet': 'Download', 'Source': 'JLCPCB', 'Assembly Type': 'SMT AssemblyA PCB assembly fixture is needed to protect and support this part during the assembly process.', 'CAD Model': 'PCB Footprint or Symbol'}\n",
      "{'Manufacturer': 'FH (Guangdong Fenghua Advanced Tech)', 'MFR.Part #': 'RC-02W221JT', 'JLCPCB Part #': 'C1111', 'Package': '0402', 'Description': '62.5mW ±5% ±200ppm/℃ 220Ω 0402  Chip Resistor - Surface Mount ROHS', 'Datasheet': 'Download', 'Source': 'JLCPCB', 'Assembly Type': 'SMT AssemblyA PCB assembly fixture is needed to protect and support this part during the assembly process.', 'CAD Model': 'PCB Footprint or Symbol'}\n",
      "{'Manufacturer': 'FH(Guangdong Fenghua Advanced Tech)', 'MFR.Part #': 'RS-02W271JT', 'JLCPCB Part #': 'C1113', 'Package': 'R0402', 'Description': '±5% ±200ppm/℃ -55℃~+155℃ 270Ω 0402 Chip Resistor - Surface Mount ROHS', 'Datasheet': 'Download', 'Source': 'JLCPCB', 'Assembly Type': 'SMT AssemblyA PCB assembly fixture is needed to protect and support this part during the assembly process.', 'CAD Model': 'PCB Footprint or Symbol'}\n",
      "{'Manufacturer': 'FH (Guangdong Fenghua Advanced Tech)', 'MFR.Part #': 'RC-02W511JT', 'JLCPCB Part #': 'C1119', 'Package': '0402', 'Description': '62.5mW ±5% ±200ppm/℃ 510Ω 0402  Chip Resistor - Surface Mount ROHS', 'Datasheet': 'Download', 'Source': 'JLCPCB', 'Assembly Type': 'SMT AssemblyA PCB assembly fixture is needed to protect and support this part during the assembly process.', 'CAD Model': 'PCB Footprint or Symbol'}\n",
      "{'Manufacturer': 'FH (Guangdong Fenghua Advanced Tech)', 'MFR.Part #': 'RS-02K621JT', 'JLCPCB Part #': 'C1121', 'Package': 'R0402', 'Description': '0402  Chip Resistor - Surface Mount ROHS', 'Datasheet': 'Download', 'Source': 'JLCPCB', 'Assembly Type': 'SMT AssemblyA PCB assembly fixture is needed to protect and support this part during the assembly process.', 'CAD Model': 'PCB Footprint or Symbol'}\n",
      "{'Manufacturer': 'FH (Guangdong Fenghua Advanced Tech)', 'MFR.Part #': 'RS-02K392JT', 'JLCPCB Part #': 'C1136', 'Package': '0402', 'Description': '±5% 3.9kΩ 0402  Chip Resistor - Surface Mount ROHS', 'Datasheet': 'Download', 'Source': 'JLCPCB', 'Assembly Type': 'SMT AssemblyA PCB assembly fixture is needed to protect and support this part during the assembly process.', 'CAD Model': 'PCB Footprint or Symbol'}\n",
      "{'Manufacturer': 'FH (Guangdong Fenghua Advanced Tech)', 'MFR.Part #': 'RS-02K822JT', 'JLCPCB Part #': 'C1143', 'Package': '0402', 'Description': '±100ppm/℃ ±5% 8.2kΩ 0402  Chip Resistor - Surface Mount ROHS', 'Datasheet': 'Download', 'Source': 'JLCPCB', 'Assembly Type': 'SMT AssemblyA PCB assembly fixture is needed to protect and support this part during the assembly process.', 'CAD Model': 'PCB Footprint or Symbol'}\n",
      "{'Manufacturer': 'FH (Guangdong Fenghua Advanced Tech)', 'MFR.Part #': 'RC-02K243JT', 'JLCPCB Part #': 'C1152', 'Package': '0402', 'Description': '62.5mW ±100ppm/℃ ±5% 24kΩ 0402  Chip Resistor - Surface Mount ROHS', 'Datasheet': 'Download', 'Source': 'JLCPCB', 'Assembly Type': 'SMT AssemblyA PCB assembly fixture is needed to protect and support this part during the assembly process.', 'CAD Model': 'PCB Footprint or Symbol'}\n",
      "{'Manufacturer': 'FH (Guangdong Fenghua Advanced Tech)', 'MFR.Part #': 'RS-02W273JT', 'JLCPCB Part #': 'C1153', 'Package': '0402', 'Description': '±5% ±200ppm/℃ -55℃~+155℃ 27kΩ 0402  Chip Resistor - Surface Mount ROHS', 'Datasheet': 'Download', 'Source': 'JLCPCB', 'Assembly Type': 'SMT AssemblyA PCB assembly fixture is needed to protect and support this part during the assembly process.', 'CAD Model': 'PCB Footprint or Symbol'}\n",
      "{'Manufacturer': 'FH (Guangdong Fenghua Advanced Tech)', 'MFR.Part #': 'RC-02W333JT', 'JLCPCB Part #': 'C1154', 'Package': '0402', 'Description': '62.5mW ±5% ±200ppm/℃ 33kΩ 0402  Chip Resistor - Surface Mount ROHS', 'Datasheet': 'Download', 'Source': 'JLCPCB', 'Assembly Type': 'SMT AssemblyA PCB assembly fixture is needed to protect and support this part during the assembly process.', 'CAD Model': 'PCB Footprint or Symbol'}\n"
     ]
    }
   ],
   "source": [
    "get_lcsc_data('C1529')\n",
    "\n",
    "for x in range(1100,1160):\n",
    "    data = get_lcsc_data('C'+str(x))\n",
    "    if data:\n",
    "        print(data)"
   ]
  },
  {
   "cell_type": "code",
   "execution_count": null,
   "metadata": {},
   "outputs": [],
   "source": []
  }
 ],
 "metadata": {
  "kernelspec": {
   "display_name": ".venv",
   "language": "python",
   "name": "python3"
  },
  "language_info": {
   "codemirror_mode": {
    "name": "ipython",
    "version": 3
   },
   "file_extension": ".py",
   "mimetype": "text/x-python",
   "name": "python",
   "nbconvert_exporter": "python",
   "pygments_lexer": "ipython3",
   "version": "3.11.6"
  }
 },
 "nbformat": 4,
 "nbformat_minor": 2
}
